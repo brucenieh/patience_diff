{
 "cells": [
  {
   "cell_type": "markdown",
   "metadata": {},
   "source": [
    "# Resources\n",
    "* [Overview of diff](https://blog.jcoglan.com/2017/02/12/the-myers-diff-algorithm-part-1/)\n",
    "* [Patience diff intro](https://blog.jcoglan.com/2017/09/19/the-patience-diff-algorithm/#:~:text=What%20it%20really%20is%20is,like%20Myers%20on%20those%20pieces.&text=Patience%20diff%20splits%20this%20problem,exactly%20once%20in%20both%20versions.)"
   ]
  },
  {
   "cell_type": "markdown",
   "metadata": {},
   "source": [
    "## Python Notes\n",
    "dictionary insert/delete complexity: O(1)\n",
    "\n",
    "dictionary lookup: O(n)\n",
    "\n",
    "list insert/delete complexity: O(n)\n",
    "\n",
    "list lookup by index: O(1)\n"
   ]
  },
  {
   "cell_type": "markdown",
   "metadata": {},
   "source": [
    "## Steps to Find Diff\n",
    "1. Read files to be compared\n",
    "2. Define Slice\n",
    "3. Find unique matching lines\n",
    "4. Sort unique matching lines to match the most number of lines without cross matching\n",
    "5. Divide into smaller slices and go to 3"
   ]
  },
  {
   "cell_type": "markdown",
   "metadata": {},
   "source": [
    "### First read the two files to be compared"
   ]
  },
  {
   "cell_type": "code",
   "execution_count": 19,
   "metadata": {},
   "outputs": [],
   "source": [
    "with open('a.py','r') as f:\n",
    "    a_file = f.read()\n",
    "\n",
    "with open('b.py','r') as f:\n",
    "    b_file = f.read()\n",
    "\n",
    "a_file = a_file.split(\"\\n\")\n",
    "b_file = b_file.split(\"\\n\")"
   ]
  },
  {
   "cell_type": "markdown",
   "metadata": {},
   "source": [
    "### Define slice class ( a subset of both file after slicing)"
   ]
  },
  {
   "cell_type": "code",
   "execution_count": 20,
   "metadata": {},
   "outputs": [],
   "source": [
    "class Slice:\n",
    "    def __init__(self, a_low, a_high, b_low, b_high, a_data, b_data):\n",
    "        self.a_low = a_low\n",
    "        self.b_low = b_low\n",
    "        self.a_data = a_data\n",
    "        self.b_data = b_data\n",
    "        \n",
    "\n",
    "# initialize the slice, a is the whole content of file one and b is whole content of file two\n",
    "start_slice = Slice(0, len(a_file), 0, len(b_file), a_file, b_file)"
   ]
  },
  {
   "cell_type": "markdown",
   "metadata": {},
   "source": [
    "### Find matches(same in content) between A and B that are unique"
   ]
  },
  {
   "cell_type": "code",
   "execution_count": 51,
   "metadata": {},
   "outputs": [
    {
     "name": "stdout",
     "output_type": "stream",
     "text": [
      "(10, 2, '        csv_file = csv.writer(file)')\n",
      "26\n"
     ]
    }
   ],
   "source": [
    "def find_unique_match(slice):\n",
    "    # line content: [number of appearances in A, number of appearances in B, position in A, position in B]\n",
    "    line_counts = {}\n",
    "    matches = []\n",
    "    a = slice.a_data\n",
    "    b = slice.b_data\n",
    "    \n",
    "    for i in range(len(a)):\n",
    "        if a[i] not in line_counts:\n",
    "            position = slice.a_low + i\n",
    "            line_counts[a[i]] = [1,0,position,None]\n",
    "        else:\n",
    "            line_counts[a[i]][0] += 1\n",
    "    \n",
    "    for i in range(len(b)):\n",
    "        # b[i] is not in line_counts indicates there's no matches\n",
    "        if b[i] in line_counts:\n",
    "            position = slice.b_low + i\n",
    "            line_counts[b[i]][1] += 1\n",
    "            line_counts[b[i]][3] = position\n",
    "    \n",
    "    for line in line_counts:\n",
    "        if line_counts[line][:2] == [1,1]:\n",
    "            matches.append((line_counts[line][2],line_counts[line][3], line))\n",
    "    \n",
    "    return matches # (position in A, position in B)\n",
    "\n",
    "matches = find_unique_match(start_slice)\n",
    "print(matches[6])\n",
    "print(len(matches))\n",
    "# for match in matches:\n",
    "#     print(match)\n"
   ]
  },
  {
   "cell_type": "code",
   "execution_count": 52,
   "metadata": {},
   "outputs": [
    {
     "name": "stdout",
     "output_type": "stream",
     "text": [
      "[(34, 32)]\n",
      "[(32, 31)]\n",
      "[(31, 30)]\n",
      "[(30, 28)]\n",
      "[(28, 27)]\n",
      "[(27, 25)]\n",
      "[(25, 24)]\n",
      "[(24, 23)]\n",
      "[(23, 22)]\n",
      "[(22, 21)]\n",
      "[(21, 19)]\n",
      "[(19, 18)]\n",
      "[(18, 17)]\n",
      "[(17, 6)]\n",
      "[(6, 5)]\n",
      "[(5, 4)]\n",
      "[(4, 3)]\n",
      "[(3, 2)]\n",
      "[(2, 1)]\n",
      "[(1, 0)]\n",
      "21\n"
     ]
    }
   ],
   "source": [
    "def patience_sort(matches):\n",
    "    stacks = [matches[0][1]] \n",
    "    # each element in directed_matches: (position in B, position in B of the previous element on the stack)\n",
    "    directed_matches = []\n",
    "    longest_matches = []\n",
    "    \n",
    "    for match in matches[1:]:\n",
    "        stack_index = bi_search(stacks, match[1])\n",
    "        if stack_index == -1: # front of the stacks\n",
    "            stacks[0] = match[1]\n",
    "        elif stack_index == (len(stacks)-1): # end of the stacks\n",
    "            stacks.append(match[1])\n",
    "            directed_matches.append((match[1],stacks[stack_index]))\n",
    "        elif stack_index >= 0: # middle of the stack\n",
    "            stacks[stack_index+1] = match[1]\n",
    "            directed_matches.append((match[1],stacks[stack_index]))\n",
    "\n",
    "    # find the edge that contains the element at the end of stacks\n",
    "    for match in directed_matches:\n",
    "        if match[0] == stacks[-1]:\n",
    "            last = match\n",
    "\n",
    "    prev = [match for match in directed_matches if match[0] == last[1]]\n",
    "\n",
    "    longest_matches.append(last)\n",
    "    \n",
    "    while len(prev) != 0:\n",
    "        print(prev)\n",
    "        last = prev[0]\n",
    "        prev = [match for match in directed_matches if match[0] == last[1]]\n",
    "        longest_matches.append(last)\n",
    "    \n",
    "    print(len(longest_matches))\n",
    "\n",
    "def bi_search(stacks, b_pos):\n",
    "    # find the index of closest match that is smaller than b_pos\n",
    "    index = -1\n",
    "    \n",
    "    while index < (len(stacks)-1) and b_pos > stacks[index+1]: \n",
    "        index += 1\n",
    "        \n",
    "    return index\n",
    "\n",
    "patience_sort(matches)"
   ]
  }
 ],
 "metadata": {
  "kernelspec": {
   "display_name": "Python 3",
   "language": "python",
   "name": "python3"
  },
  "language_info": {
   "codemirror_mode": {
    "name": "ipython",
    "version": 3
   },
   "file_extension": ".py",
   "mimetype": "text/x-python",
   "name": "python",
   "nbconvert_exporter": "python",
   "pygments_lexer": "ipython3",
   "version": "3.8.3"
  }
 },
 "nbformat": 4,
 "nbformat_minor": 4
}
