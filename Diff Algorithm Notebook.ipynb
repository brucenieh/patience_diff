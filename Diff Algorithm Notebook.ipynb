{
 "cells": [
  {
   "cell_type": "markdown",
   "metadata": {},
   "source": [
    "# Resources\n",
    "* [Overview of diff](https://blog.jcoglan.com/2017/02/12/the-myers-diff-algorithm-part-1/)\n",
    "* [Patience diff intro](https://blog.jcoglan.com/2017/09/19/the-patience-diff-algorithm/#:~:text=What%20it%20really%20is%20is,like%20Myers%20on%20those%20pieces.&text=Patience%20diff%20splits%20this%20problem,exactly%20once%20in%20both%20versions.)"
   ]
  },
  {
   "cell_type": "code",
   "execution_count": 16,
   "metadata": {},
   "outputs": [
    {
     "name": "stdout",
     "output_type": "stream",
     "text": [
      "('def save_to_csv(output_file,results):', [0, 0])\n",
      "('    Save result to a csv file', [2, 8])\n",
      "('    Args:', [4, 10])\n",
      "('        output_file: string, output filename', [5, 11])\n",
      "('        results: list, result of all the matches', [6, 12])\n",
      "(\"    with open(output_file,'w') as file:\", [9, 1])\n",
      "('        csv_file = csv.writer(file)', [10, 2])\n",
      "('        for result in results:', [11, 3])\n",
      "('            for match in result[1]:', [12, 4])\n",
      "(\"                file.write(result[0] + ',')\", [13, 5])\n",
      "('                csv_file.writerow(match[:-1])', [14, 6])\n",
      "('def main():', [16, 17])\n",
      "(\"    cwd = os.getcwd() + '/'\", [17, 18])\n",
      "('    results = [] # stores the result of all the matches for each file', [18, 19])\n",
      "('    # parsing input argument', [20, 21])\n",
      "(\"    parser = argparse.ArgumentParser(description='Extract dates from txt files')\", [21, 22])\n",
      "(\"    parser.add_argument('-i', '--input', type=str, help='input file directory path')\", [22, 23])\n",
      "(\"    parser.add_argument('-o', '--output',type=str, default='output.csv', help='output file directory path')\", [23, 24])\n",
      "('    args = parser.parse_args()', [24, 25])\n",
      "('    # get all filenames', [26, 27])\n",
      "('    filenames = get_filenames(args.input)', [27, 28])\n",
      "('    # save result', [37, 30])\n",
      "('    output_file_path = cwd+args.output', [38, 31])\n",
      "('    save_to_csv(output_file_path,results)', [39, 32])\n",
      "('if __name__ == \"__main__\":', [41, 34])\n",
      "('    main()', [42, 35])\n"
     ]
    }
   ],
   "source": [
    "with open('a.py','r') as f:\n",
    "    a_file = f.read()\n",
    "\n",
    "with open('b.py','r') as f:\n",
    "    b_file = f.read()\n",
    "\n",
    "\n",
    "a_file = a_file.split(\"\\n\")\n",
    "b_file = b_file.split(\"\\n\")\n",
    "\n",
    "class Slice:\n",
    "    def __init__(self, a_low, a_high, b_low, b_high, a_data, b_data):\n",
    "        self.a_low = a_low\n",
    "        self.b_low = b_low\n",
    "        self.a_data = a_data\n",
    "        self.b_data = b_data\n",
    "        \n",
    "\n",
    "# initialize the slice, a is the whole content of file one and b is whole content of file two\n",
    "start_slice = Slice(0, len(a_file), 0, len(b_file), a_file, b_file)\n",
    "\n",
    "def find_unique_match(slice):\n",
    "    # line content: [number of appearances in A, number of appearances in B, position in A, position in B]\n",
    "    line_counts = {}\n",
    "    matches = []\n",
    "    a = slice.a_data\n",
    "    b = slice.b_data\n",
    "    \n",
    "    for i in range(len(a)):\n",
    "        if a[i] not in line_counts:\n",
    "            position = slice.a_low + i\n",
    "            line_counts[a[i]] = [1,0,position,None]\n",
    "        else:\n",
    "            line_counts[a[i]][0] += 1\n",
    "    \n",
    "    for i in range(len(b)):\n",
    "        # b[i] is not in line_counts indicates there's no matches\n",
    "        if b[i] in line_counts:\n",
    "            position = slice.b_low + i\n",
    "            line_counts[b[i]][1] += 1\n",
    "            line_counts[b[i]][3] = position\n",
    "    \n",
    "    for line in line_counts:\n",
    "        if line_counts[line][:2] == [1,1]:\n",
    "            matches.append((line,line_counts[line][2:]))\n",
    "    \n",
    "    return matches\n",
    "\n",
    "matches = find_unique_match(start_slice)\n",
    "for match in matches:\n",
    "    print(match)\n"
   ]
  }
 ],
 "metadata": {
  "kernelspec": {
   "display_name": "Python 3",
   "language": "python",
   "name": "python3"
  },
  "language_info": {
   "codemirror_mode": {
    "name": "ipython",
    "version": 3
   },
   "file_extension": ".py",
   "mimetype": "text/x-python",
   "name": "python",
   "nbconvert_exporter": "python",
   "pygments_lexer": "ipython3",
   "version": "3.8.3"
  }
 },
 "nbformat": 4,
 "nbformat_minor": 4
}
