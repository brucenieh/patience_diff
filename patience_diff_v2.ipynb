{
 "cells": [
  {
   "cell_type": "markdown",
   "metadata": {},
   "source": [
    "# Resources\n",
    "* [Overview of diff](https://blog.jcoglan.com/2017/02/12/the-myers-diff-algorithm-part-1/)\n",
    "* [Patience diff intro](https://blog.jcoglan.com/2017/09/19/the-patience-diff-algorithm/#:~:text=What%20it%20really%20is%20is,like%20Myers%20on%20those%20pieces.&text=Patience%20diff%20splits%20this%20problem,exactly%20once%20in%20both%20versions.)"
   ]
  },
  {
   "cell_type": "markdown",
   "metadata": {},
   "source": [
    "## Python Notes\n",
    "dictionary insert/delete complexity: O(1)\n",
    "\n",
    "dictionary lookup: O(n)\n",
    "\n",
    "list insert/delete complexity: O(n)\n",
    "\n",
    "list lookup by index: O(1)\n"
   ]
  },
  {
   "cell_type": "markdown",
   "metadata": {},
   "source": [
    "## Steps to Find Diff\n",
    "1. Read files to be compared\n",
    "2. Define Slice\n",
    "3. Find unique matching lines\n",
    "4. Sort unique matching lines to match the most number of lines without cross matching\n",
    "5. Divide into smaller slices and go to 3"
   ]
  },
  {
   "cell_type": "markdown",
   "metadata": {},
   "source": [
    "### First read the two files to be compared"
   ]
  },
  {
   "cell_type": "code",
   "execution_count": 71,
   "metadata": {
    "scrolled": true
   },
   "outputs": [
    {
     "data": {
      "text/plain": [
       "(['a', 'b', 'c', 'd', 'e', 'f', ''], ['a', 'b', 'c', 'b', 'd', 'f', 'e', ''])"
      ]
     },
     "execution_count": 71,
     "metadata": {},
     "output_type": "execute_result"
    }
   ],
   "source": [
    "# file_A = 'a.py'\n",
    "# file_B = 'b.py'\n",
    "\n",
    "file_A = 'c.txt'\n",
    "file_B = 'd.txt'\n",
    "\n",
    "def read_files(file_A, file_B):\n",
    "    with open(file_A,'r') as f:\n",
    "        a_file = f.read().split('\\n')\n",
    "\n",
    "    with open(file_B,'r') as f:\n",
    "        b_file = f.read().split('\\n')\n",
    "    \n",
    "    return a_file, b_file\n",
    "\n",
    "a_file, b_file = read_files(file_A, file_B)\n",
    "read_files(file_A, file_B)"
   ]
  },
  {
   "cell_type": "markdown",
   "metadata": {},
   "source": [
    "### Define slice class ( a subset of both file after slicing)"
   ]
  },
  {
   "cell_type": "code",
   "execution_count": 75,
   "metadata": {},
   "outputs": [
    {
     "name": "stdout",
     "output_type": "stream",
     "text": [
      "A: (1, 8)B: (1, 9)\n"
     ]
    }
   ],
   "source": [
    "class Slice:\n",
    "    def __init__(self, a_low, a_high, b_low, b_high):\n",
    "        self.a_low = a_low\n",
    "        self.a_high = a_high\n",
    "        self.b_low = b_low\n",
    "        self.b_high = b_high\n",
    "    \n",
    "    def __str__(self):\n",
    "        return \"A: \" + str((self.a_low+1, self.a_high+1)) +\\\n",
    "        \"B: \" + str((self.b_low+1, self.b_high+1))\n",
    "\n",
    "# initialize the slice, a is the whole content of file one and b is whole content of file two\n",
    "start_slice = Slice(0, len(a_file), 0, len(b_file))\n",
    "print(start_slice)"
   ]
  },
  {
   "cell_type": "markdown",
   "metadata": {},
   "source": [
    "### Find matches(same in content) between A and B that are unique"
   ]
  },
  {
   "cell_type": "code",
   "execution_count": 72,
   "metadata": {
    "scrolled": true
   },
   "outputs": [
    {
     "data": {
      "text/plain": [
       "[(0, 0, 'a'), (2, 2, 'c'), (3, 4, 'd'), (4, 6, 'e'), (5, 5, 'f'), (6, 7, '')]"
      ]
     },
     "execution_count": 72,
     "metadata": {},
     "output_type": "execute_result"
    }
   ],
   "source": [
    "def find_unique_match(slice):\n",
    "    # line content: [number of appearances in A, number of appearances in B, position in A, position in B]\n",
    "    line_counts = {}\n",
    "    matches = []\n",
    "    \n",
    "    for i in range(slice.a_low, slice.a_high):\n",
    "        if a_file[i] not in line_counts:\n",
    "            position = i\n",
    "            line_counts[a_file[i]] = [1,0,position,None]\n",
    "        else:\n",
    "            line_counts[a_file[i]][0] += 1\n",
    "    \n",
    "    for i in range(slice.b_low, slice.b_high):\n",
    "        # b[i] is not in line_counts indicates there's no matches\n",
    "        if b_file[i] in line_counts:\n",
    "            position = i\n",
    "            line_counts[b_file[i]][1] += 1\n",
    "            line_counts[b_file[i]][3] = position\n",
    "    \n",
    "    for line in line_counts:\n",
    "        if line_counts[line][:2] == [1,1]:\n",
    "            matches.append((line_counts[line][2],line_counts[line][3], line))\n",
    "    \n",
    "    return matches # (position in A, position in B)\n",
    "\n",
    "matches = find_unique_match(start_slice)\n",
    "\n",
    "# for match in matches:\n",
    "#     print(match)\n",
    "find_unique_match(start_slice)"
   ]
  },
  {
   "cell_type": "markdown",
   "metadata": {},
   "source": [
    "### Use Patience Sort Algorithm to find the best way to slice code blocks"
   ]
  },
  {
   "cell_type": "code",
   "execution_count": 93,
   "metadata": {},
   "outputs": [
    {
     "data": {
      "text/plain": [
       "[(0, 0, 'a'), (2, 2, 'c'), (3, 4, 'd'), (5, 5, 'f'), (6, 7, '')]"
      ]
     },
     "execution_count": 93,
     "metadata": {},
     "output_type": "execute_result"
    }
   ],
   "source": [
    "def patience_sort(matches):\n",
    "    if len(matches) <= 1:\n",
    "        return matches\n",
    "        \n",
    "    stacks = [matches[0]] \n",
    "    # each element in directed_matches: (position in B, position in B of the previous element on the stack)\n",
    "    directed_matches = []\n",
    "    longest_matches = []\n",
    "    \n",
    "    for match in matches[1:]:\n",
    "        stack_index = search(stacks, match) # need to be updated to binary search to save time\n",
    "        if stack_index == -1: # front of the stacks\n",
    "            stacks[0] = match\n",
    "        elif stack_index == (len(stacks)-1): # end of the stacks\n",
    "            stacks.append(match)\n",
    "            directed_matches.append((match,stacks[stack_index]))\n",
    "        elif stack_index >= 0: # middle of the stack\n",
    "            stacks[stack_index+1] = match\n",
    "            directed_matches.append((match,stacks[stack_index]))\n",
    "\n",
    "    if len(directed_matches) == 0: # If only the front stack is used\n",
    "        return [stacks[0]] # returns top of the front stack\n",
    "    \n",
    "    # finds the edge that contains the element at the end of stacks\n",
    "    for match in directed_matches:\n",
    "        if match[0] == stacks[-1]:\n",
    "            last = match\n",
    "    prev = [match for match in directed_matches if match[0] == last[1]][0]\n",
    "    \n",
    "    # Find the whole linked matches\n",
    "    while 1:\n",
    "        longest_matches.append(last[0])\n",
    "        last = prev\n",
    "        prev = [match for match in directed_matches if match[0] == last[1]]\n",
    "        if len(prev) == 0: # if there's no prev, which means end of the linked list\n",
    "            # Append the last two edges\n",
    "            longest_matches.append(last[0])\n",
    "            longest_matches.append(last[1])\n",
    "            break\n",
    "        prev = prev[0]\n",
    "    \n",
    "    return list(reversed(longest_matches))\n",
    "\n",
    "def search(stacks, match):\n",
    "    # find the index of closest match that is smaller than b_pos\n",
    "    index = -1\n",
    "    \n",
    "    while index < (len(stacks)-1) and match[1] > stacks[index+1][1]: \n",
    "        index += 1\n",
    "\n",
    "    return index\n",
    "\n",
    "patience_sort(matches)"
   ]
  },
  {
   "cell_type": "code",
   "execution_count": 98,
   "metadata": {},
   "outputs": [
    {
     "name": "stdout",
     "output_type": "stream",
     "text": [
      "A: (1, 1)B: (1, 1)\n",
      "A: (2, 3)B: (2, 3)\n",
      "A: (4, 4)B: (4, 5)\n",
      "A: (5, 6)B: (6, 6)\n",
      "A: (7, 7)B: (7, 8)\n"
     ]
    }
   ],
   "source": [
    "def patience_diff(slice):\n",
    "    matches = patience_sort(find_unique_match(slice))\n",
    "    if len(matches) <= 1:\n",
    "        return slice\n",
    "    \n",
    "    slices = []\n",
    "    a_line = slice.a_low\n",
    "    b_line = slice.b_low\n",
    "    \n",
    "    for match in matches:\n",
    "        new_slice = Slice(a_line, match[0], b_line, match[1])\n",
    "        \n",
    "        a_line = match[0]+1\n",
    "        b_line = match[1]+1\n",
    "        slices.append(patience_diff(new_slice))\n",
    "    \n",
    "    return slices\n",
    "\n",
    "slices = patience_diff(start_slice)\n",
    "for slice in slices:\n",
    "    print(str(slice))"
   ]
  }
 ],
 "metadata": {
  "kernelspec": {
   "display_name": "Python 3",
   "language": "python",
   "name": "python3"
  },
  "language_info": {
   "codemirror_mode": {
    "name": "ipython",
    "version": 3
   },
   "file_extension": ".py",
   "mimetype": "text/x-python",
   "name": "python",
   "nbconvert_exporter": "python",
   "pygments_lexer": "ipython3",
   "version": "3.8.3"
  }
 },
 "nbformat": 4,
 "nbformat_minor": 4
}
